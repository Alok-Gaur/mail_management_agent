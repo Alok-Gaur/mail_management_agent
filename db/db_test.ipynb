{
 "cells": [
  {
   "cell_type": "code",
   "execution_count": 5,
   "id": "51cc4118",
   "metadata": {},
   "outputs": [],
   "source": [
    "import chromadb\n",
    "client = chromadb.Client()\n",
    "collection = client.get_or_create_collection(\"test\", metadata={\"hnsw:space\":\"cosine\"})"
   ]
  },
  {
   "cell_type": "code",
   "execution_count": 9,
   "id": "a3256366",
   "metadata": {},
   "outputs": [],
   "source": [
    "collection.upsert(\n",
    "    documents=[\n",
    "        \"This is a document about watermelons\",\n",
    "        \"This is a document about peaches\",\n",
    "        \"This is a document about oranges\",\n",
    "        \"This is a document about pineapples\",\n",
    "    ],\n",
    "    ids=['id1', 'id2', 'id3', 'id4']\n",
    ")"
   ]
  },
  {
   "cell_type": "code",
   "execution_count": 12,
   "id": "3ccf8330",
   "metadata": {},
   "outputs": [],
   "source": [
    "result = collection.query(\n",
    "    query_texts=[\"orngs\"],\n",
    "    n_results=1, \n",
    "    include=['documents']\n",
    ")"
   ]
  },
  {
   "cell_type": "code",
   "execution_count": 13,
   "id": "e97b3023",
   "metadata": {},
   "outputs": [
    {
     "data": {
      "text/plain": [
       "{'ids': [['id3']],\n",
       " 'embeddings': None,\n",
       " 'documents': [['This is a document about oranges']],\n",
       " 'uris': None,\n",
       " 'included': ['documents'],\n",
       " 'data': None,\n",
       " 'metadatas': None,\n",
       " 'distances': None}"
      ]
     },
     "execution_count": 13,
     "metadata": {},
     "output_type": "execute_result"
    }
   ],
   "source": [
    "result"
   ]
  },
  {
   "cell_type": "code",
   "execution_count": 48,
   "id": "6021fedf",
   "metadata": {},
   "outputs": [
    {
     "data": {
      "text/plain": [
       "'29a95147c6a629390c0feb7362e71ff0af404ab8d0aeeacdcb5805326b21d1b8'"
      ]
     },
     "execution_count": 48,
     "metadata": {},
     "output_type": "execute_result"
    }
   ],
   "source": [
    "import secrets\n",
    "secret_key = secrets.token_hex(32)\n",
    "secret_key"
   ]
  }
 ],
 "metadata": {
  "kernelspec": {
   "display_name": "mail_management_agent",
   "language": "python",
   "name": "python3"
  },
  "language_info": {
   "codemirror_mode": {
    "name": "ipython",
    "version": 3
   },
   "file_extension": ".py",
   "mimetype": "text/x-python",
   "name": "python",
   "nbconvert_exporter": "python",
   "pygments_lexer": "ipython3",
   "version": "3.13.7"
  }
 },
 "nbformat": 4,
 "nbformat_minor": 5
}
